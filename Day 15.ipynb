{
 "cells": [
  {
   "cell_type": "code",
   "execution_count": 1,
   "metadata": {},
   "outputs": [
    {
     "name": "stdout",
     "output_type": "stream",
     "text": [
      "Populating the interactive namespace from numpy and matplotlib\n"
     ]
    }
   ],
   "source": [
    "%pylab inline"
   ]
  },
  {
   "cell_type": "code",
   "execution_count": 2,
   "metadata": {
    "collapsed": true
   },
   "outputs": [],
   "source": [
    "import re\n",
    "import requests\n",
    "import collections\n",
    "import functools\n",
    "import itertools"
   ]
  },
  {
   "cell_type": "code",
   "execution_count": 3,
   "metadata": {},
   "outputs": [],
   "source": [
    "headers = {\n",
    "    \"Host\": \"adventofcode.com\",\n",
    "    \"Connection\": \"keep-alive\",\n",
    "    \"Cache-Control\": \"max-age=0\",\n",
    "    \"Upgrade-Insecure-Requests\": \"1\",\n",
    "    \"User-Agent\": \"Mozilla/5.0 (Macintosh; Intel Mac OS X 10_11_1) AppleWebKit/537.36 (KHTML, like Gecko) Chrome/55.0.2883.87 Safari/537.36\",\n",
    "    \"Accept\": \"text/html,application/xhtml+xml,application/xml;q=0.9,image/webp,*/*;q=0.8\",\n",
    "    \"DNT\": \"1\",\n",
    "    \"Referer\": \"http://adventofcode.com/2016/day/11\",\n",
    "    \"Accept-Encoding\": \"gzip, deflate, sdch\",\n",
    "    \"Accept-Language\": \"en-US,en;q=0.8,ru;q=0.6\",\n",
    "    \"Cookie\": \"session=53616c7465645f5f5ebac3997c6c17b36bb86dd7a54e710a5121d7aba9fb1bd44020840204e963daf3388cece92610a2\",\n",
    "}\n",
    "\n",
    "r = requests.get('http://adventofcode.com/2016/day/15/input', headers=headers)\n",
    "input = r.text.strip()\n",
    "lines = input.split('\\n')"
   ]
  },
  {
   "cell_type": "code",
   "execution_count": 4,
   "metadata": {},
   "outputs": [
    {
     "data": {
      "text/plain": [
       "['Disc #1 has 17 positions; at time=0, it is at position 1.',\n",
       " 'Disc #2 has 7 positions; at time=0, it is at position 0.',\n",
       " 'Disc #3 has 19 positions; at time=0, it is at position 2.',\n",
       " 'Disc #4 has 5 positions; at time=0, it is at position 0.',\n",
       " 'Disc #5 has 3 positions; at time=0, it is at position 0.',\n",
       " 'Disc #6 has 13 positions; at time=0, it is at position 5.']"
      ]
     },
     "execution_count": 4,
     "metadata": {},
     "output_type": "execute_result"
    }
   ],
   "source": [
    "input.split('\\n')"
   ]
  },
  {
   "cell_type": "code",
   "execution_count": 5,
   "metadata": {
    "collapsed": true
   },
   "outputs": [],
   "source": [
    "n = []\n",
    "b = []\n",
    "\n",
    "for line in lines:\n",
    "    ni, bi = re.findall(r'has (\\d+) positions.*position (\\d+)', line)[0]\n",
    "    n.append(int(ni))\n",
    "    b.append(int(bi))"
   ]
  },
  {
   "cell_type": "code",
   "execution_count": 6,
   "metadata": {
    "collapsed": true
   },
   "outputs": [],
   "source": [
    "def depth(t):\n",
    "    c = 1\n",
    "    for ni, bi in zip(n, b):\n",
    "        if (c + t + bi) % ni != 0:\n",
    "            return c\n",
    "        c += 1\n",
    "    return c"
   ]
  },
  {
   "cell_type": "code",
   "execution_count": 7,
   "metadata": {},
   "outputs": [
    {
     "data": {
      "text/plain": [
       "array([17,  7, 19,  5,  3, 13])"
      ]
     },
     "execution_count": 7,
     "metadata": {},
     "output_type": "execute_result"
    }
   ],
   "source": [
    "array(n, dtype=int)"
   ]
  },
  {
   "cell_type": "code",
   "execution_count": 8,
   "metadata": {},
   "outputs": [
    {
     "data": {
      "text/plain": [
       "array([ 2,  2,  5,  4,  5, 11])"
      ]
     },
     "execution_count": 8,
     "metadata": {},
     "output_type": "execute_result"
    }
   ],
   "source": [
    "c = array(b, dtype=int) + arange(1, 7)\n",
    "c"
   ]
  },
  {
   "cell_type": "code",
   "execution_count": 13,
   "metadata": {},
   "outputs": [
    {
     "name": "stdout",
     "output_type": "stream",
     "text": [
      "0 0 1\n",
      "1 0 1\n",
      "2 0 1\n",
      "3 0 1\n",
      "4 0 1\n",
      "5 0 1\n",
      "6 0 1\n",
      "7 0 1\n",
      "8 0 1\n",
      "9 0 1\n",
      "10 0 1\n",
      "11 0 1\n",
      "12 0 1\n",
      "13 0 1\n",
      "14 0 1\n",
      "15 1 1\n",
      "32 1 17\n",
      "49 1 17\n",
      "66 1 17\n",
      "83 1 17\n",
      "100 1 17\n",
      "117 2 17\n",
      "236 2 119\n",
      "355 2 119\n",
      "474 2 119\n",
      "593 2 119\n",
      "712 2 119\n",
      "831 4 119\n",
      "12136 5 11305\n",
      "46051 5 33915\n",
      "79966 5 33915\n",
      "113881 5 33915\n",
      "147796 5 33915\n",
      "181711 5 33915\n",
      "215626 5 33915\n",
      "249541 5 33915\n",
      "283456 5 33915\n",
      "317371 6 33915\n"
     ]
    }
   ],
   "source": [
    "t = 0\n",
    "step = 1\n",
    "val = 0\n",
    "\n",
    "while val < len(n):\n",
    "    d = depth(t) - 1\n",
    "    print(t, d, step)\n",
    "    if d > val:\n",
    "        step *= product(n[val:d])\n",
    "        val = d\n",
    "    t += step\n",
    "    if t > 10000000:\n",
    "        break"
   ]
  },
  {
   "cell_type": "code",
   "execution_count": 14,
   "metadata": {
    "collapsed": true
   },
   "outputs": [],
   "source": [
    "n.append(11)\n",
    "b.append(0)\n",
    "c = array(b, dtype=int) + arange(1, 8)"
   ]
  },
  {
   "cell_type": "code",
   "execution_count": 15,
   "metadata": {},
   "outputs": [
    {
     "name": "stdout",
     "output_type": "stream",
     "text": [
      "0 0 1\n",
      "1 0 1\n",
      "2 0 1\n",
      "3 0 1\n",
      "4 0 1\n",
      "5 0 1\n",
      "6 0 1\n",
      "7 0 1\n",
      "8 0 1\n",
      "9 0 1\n",
      "10 0 1\n",
      "11 0 1\n",
      "12 0 1\n",
      "13 0 1\n",
      "14 0 1\n",
      "15 1 1\n",
      "32 1 17\n",
      "49 1 17\n",
      "66 1 17\n",
      "83 1 17\n",
      "100 1 17\n",
      "117 2 17\n",
      "236 2 119\n",
      "355 2 119\n",
      "474 2 119\n",
      "593 2 119\n",
      "712 2 119\n",
      "831 4 119\n",
      "12136 5 11305\n",
      "46051 5 33915\n",
      "79966 5 33915\n",
      "113881 5 33915\n",
      "147796 5 33915\n",
      "181711 5 33915\n",
      "215626 5 33915\n",
      "249541 5 33915\n",
      "283456 5 33915\n",
      "317371 6 33915\n",
      "758266 6 440895\n",
      "1199161 6 440895\n",
      "1640056 6 440895\n",
      "2080951 7 440895\n"
     ]
    }
   ],
   "source": [
    "t = 0\n",
    "step = 1\n",
    "val = 0\n",
    "\n",
    "while val < len(n):\n",
    "    d = depth(t) - 1\n",
    "    print(t, d, step)\n",
    "    if d > val:\n",
    "        step *= product(n[val:d])\n",
    "        val = d\n",
    "    t += step\n",
    "    if t > 10000000:\n",
    "        break"
   ]
  }
 ],
 "metadata": {
  "kernelspec": {
   "display_name": "Python 3",
   "language": "python",
   "name": "python3"
  },
  "language_info": {
   "codemirror_mode": {
    "name": "ipython",
    "version": 3
   },
   "file_extension": ".py",
   "mimetype": "text/x-python",
   "name": "python",
   "nbconvert_exporter": "python",
   "pygments_lexer": "ipython3",
   "version": "3.6.0b2"
  }
 },
 "nbformat": 4,
 "nbformat_minor": 1
}

{
 "cells": [
  {
   "cell_type": "code",
   "execution_count": 2,
   "metadata": {},
   "outputs": [
    {
     "name": "stdout",
     "output_type": "stream",
     "text": [
      "Populating the interactive namespace from numpy and matplotlib\n"
     ]
    }
   ],
   "source": [
    "%pylab inline"
   ]
  },
  {
   "cell_type": "code",
   "execution_count": 16,
   "metadata": {},
   "outputs": [],
   "source": [
    "import re\n",
    "import requests\n",
    "import collections\n",
    "import functools\n",
    "import itertools\n",
    "import hashlib"
   ]
  },
  {
   "cell_type": "code",
   "execution_count": 4,
   "metadata": {},
   "outputs": [
    {
     "data": {
      "text/plain": [
       "['hhhxzeay']"
      ]
     },
     "execution_count": 4,
     "metadata": {},
     "output_type": "execute_result"
    }
   ],
   "source": [
    "headers = {\n",
    "    \"Host\": \"adventofcode.com\",\n",
    "    \"Connection\": \"keep-alive\",\n",
    "    \"Cache-Control\": \"max-age=0\",\n",
    "    \"Upgrade-Insecure-Requests\": \"1\",\n",
    "    \"User-Agent\": \"Mozilla/5.0 (Macintosh; Intel Mac OS X 10_11_1) AppleWebKit/537.36 (KHTML, like Gecko) Chrome/55.0.2883.87 Safari/537.36\",\n",
    "    \"Accept\": \"text/html,application/xhtml+xml,application/xml;q=0.9,image/webp,*/*;q=0.8\",\n",
    "    \"DNT\": \"1\",\n",
    "    \"Referer\": \"http://adventofcode.com/2016/day/11\",\n",
    "    \"Accept-Encoding\": \"gzip, deflate, sdch\",\n",
    "    \"Accept-Language\": \"en-US,en;q=0.8,ru;q=0.6\",\n",
    "    \"Cookie\": \"session=53616c7465645f5f5ebac3997c6c17b36bb86dd7a54e710a5121d7aba9fb1bd44020840204e963daf3388cece92610a2\",\n",
    "}\n",
    "\n",
    "r = requests.get('http://adventofcode.com/2016/day/17/input', headers=headers)\n",
    "input = r.text.strip()\n",
    "lines = input.split('\\n')\n",
    "lines"
   ]
  },
  {
   "cell_type": "code",
   "execution_count": 102,
   "metadata": {},
   "outputs": [],
   "source": [
    "s = lines[0]"
   ]
  },
  {
   "cell_type": "code",
   "execution_count": 70,
   "metadata": {
    "collapsed": true
   },
   "outputs": [],
   "source": [
    "dirs = [\n",
    "    [0, 1],\n",
    "    [0, -1],\n",
    "    [-1, 0],\n",
    "    [1, 0],\n",
    "]\n",
    "dir_letters = 'UDLR'\n",
    "dir_dict = {j: i for i, j in enumerate(dir_letters)}"
   ]
  },
  {
   "cell_type": "code",
   "execution_count": 64,
   "metadata": {
    "collapsed": true
   },
   "outputs": [],
   "source": [
    "# s = 'hijkl'"
   ]
  },
  {
   "cell_type": "code",
   "execution_count": 65,
   "metadata": {
    "collapsed": true
   },
   "outputs": [],
   "source": [
    "def doors(path):\n",
    "    hsh = hashlib.md5((s + path).encode('utf-8')).hexdigest()\n",
    "    return [i in 'bcdef' for i in hsh[:4]]"
   ]
  },
  {
   "cell_type": "code",
   "execution_count": 66,
   "metadata": {
    "collapsed": true
   },
   "outputs": [],
   "source": [
    "w = 4\n",
    "h = 4"
   ]
  },
  {
   "cell_type": "code",
   "execution_count": 67,
   "metadata": {
    "collapsed": true
   },
   "outputs": [],
   "source": [
    "def step(x, y, dir_index):\n",
    "    xx = x + dirs[dir_index][0]\n",
    "    yy = y + dirs[dir_index][1]\n",
    "    if x < 0 or y < 0 or xx < 0 or xx >= w or yy < 0 or yy >= h:\n",
    "        return -1, -1\n",
    "    return xx, yy"
   ]
  },
  {
   "cell_type": "code",
   "execution_count": 87,
   "metadata": {},
   "outputs": [
    {
     "data": {
      "text/plain": [
       "(-1, -1)"
      ]
     },
     "execution_count": 87,
     "metadata": {},
     "output_type": "execute_result"
    }
   ],
   "source": [
    "step(0, 2, 2)"
   ]
  },
  {
   "cell_type": "code",
   "execution_count": 90,
   "metadata": {},
   "outputs": [
    {
     "data": {
      "text/plain": [
       "(0, 1)"
      ]
     },
     "execution_count": 90,
     "metadata": {},
     "output_type": "execute_result"
    }
   ],
   "source": [
    "x = 0\n",
    "y = 3\n",
    "for i in 'DDUD':\n",
    "    x, y = step(x, y, dir_dict[i])\n",
    "x, y"
   ]
  },
  {
   "cell_type": "code",
   "execution_count": 108,
   "metadata": {},
   "outputs": [
    {
     "data": {
      "text/plain": [
       "36102"
      ]
     },
     "execution_count": 108,
     "metadata": {},
     "output_type": "execute_result"
    }
   ],
   "source": [
    "reachable = set()\n",
    "m = 1000\n",
    "def dfs(path):\n",
    "    if len(path) > m:\n",
    "        return\n",
    "    reachable.add(path)\n",
    "    x = 0\n",
    "    y = 3\n",
    "    for i in path:\n",
    "        x, y = step(x, y, dir_dict[i])\n",
    "        \n",
    "    if x < 0 or y < 0:\n",
    "        return\n",
    "        \n",
    "    if x == 3 and y == 0:\n",
    "        return\n",
    "        \n",
    "    possible = doors(path)\n",
    "    for i in range(4):\n",
    "        if possible[i]:\n",
    "            xx, yy = step(x, y, i)\n",
    "            if xx < 0 or yy < 0:\n",
    "                continue\n",
    "            dfs(path + dir_letters[i])\n",
    "dfs('')\n",
    "len(reachable)"
   ]
  },
  {
   "cell_type": "code",
   "execution_count": 109,
   "metadata": {},
   "outputs": [
    {
     "data": {
      "text/plain": [
       "'DDURLURDRDUDRUDULUDLDRDUUDLURDLLRDLRLRLRUDRULRLRUDLRLRLDLUUUDRLDDRURLUDLDUDRURLURDLLURRULDRLDUDULURDRUDUDDLRUDLULRRRLLRDRLRUDLULDLRDULRRLUUDLDDURLRLRDLUDUDUURDLUDRRRUDLDLULRLUDRLURDRUDUDLULRDRUULDURLDDLUDDRLRLRUUURDDULLRLRULDRRDLDUDRULURRULLLRRRLDLDRURDLULLRDUDLURDRULURLRLDURDULLRRDRUDLULDDULRRRULDULLDDDUURDRRULRULRLRLLDRRLDDLLURLRLRDUUDURRUDDUULLDUDRULDDUDDRUUDURLLUDDUUDLRURDLUDLRUDDUURDLLDRDRR'"
      ]
     },
     "execution_count": 109,
     "metadata": {},
     "output_type": "execute_result"
    }
   ],
   "source": [
    "maxl = -1\n",
    "minpath = None\n",
    "for path in reachable:\n",
    "    x, y = 0, 3\n",
    "    for i in path:\n",
    "        x, y = step(x, y, dir_dict[i])\n",
    "    if x == 3 and y == 0:\n",
    "        if len(path) > maxl:\n",
    "            maxl = len(path)\n",
    "            minpath = path\n",
    "minpath"
   ]
  },
  {
   "cell_type": "code",
   "execution_count": 110,
   "metadata": {},
   "outputs": [
    {
     "data": {
      "text/plain": [
       "398"
      ]
     },
     "execution_count": 110,
     "metadata": {},
     "output_type": "execute_result"
    }
   ],
   "source": [
    "maxl"
   ]
  }
 ],
 "metadata": {
  "kernelspec": {
   "display_name": "Python 3",
   "language": "python",
   "name": "python3"
  },
  "language_info": {
   "codemirror_mode": {
    "name": "ipython",
    "version": 3
   },
   "file_extension": ".py",
   "mimetype": "text/x-python",
   "name": "python",
   "nbconvert_exporter": "python",
   "pygments_lexer": "ipython3",
   "version": "3.6.0b2"
  }
 },
 "nbformat": 4,
 "nbformat_minor": 1
}

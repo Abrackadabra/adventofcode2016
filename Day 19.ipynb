{
 "cells": [
  {
   "cell_type": "code",
   "execution_count": 1,
   "metadata": {},
   "outputs": [
    {
     "name": "stdout",
     "output_type": "stream",
     "text": [
      "Populating the interactive namespace from numpy and matplotlib\n"
     ]
    }
   ],
   "source": [
    "%pylab inline"
   ]
  },
  {
   "cell_type": "code",
   "execution_count": 2,
   "metadata": {
    "collapsed": true
   },
   "outputs": [],
   "source": [
    "import re\n",
    "import requests\n",
    "import collections\n",
    "import functools\n",
    "import itertools\n",
    "import tqdm"
   ]
  },
  {
   "cell_type": "code",
   "execution_count": 3,
   "metadata": {},
   "outputs": [
    {
     "data": {
      "text/plain": [
       "['3018458']"
      ]
     },
     "execution_count": 3,
     "metadata": {},
     "output_type": "execute_result"
    }
   ],
   "source": [
    "headers = {\n",
    "    \"Host\": \"adventofcode.com\",\n",
    "    \"Connection\": \"keep-alive\",\n",
    "    \"Cache-Control\": \"max-age=0\",\n",
    "    \"Upgrade-Insecure-Requests\": \"1\",\n",
    "    \"User-Agent\": \"Mozilla/5.0 (Macintosh; Intel Mac OS X 10_11_1) AppleWebKit/537.36 (KHTML, like Gecko) Chrome/55.0.2883.87 Safari/537.36\",\n",
    "    \"Accept\": \"text/html,application/xhtml+xml,application/xml;q=0.9,image/webp,*/*;q=0.8\",\n",
    "    \"DNT\": \"1\",\n",
    "    \"Referer\": \"http://adventofcode.com/2016/day/11\",\n",
    "    \"Accept-Encoding\": \"gzip, deflate, sdch\",\n",
    "    \"Accept-Language\": \"en-US,en;q=0.8,ru;q=0.6\",\n",
    "    \"Cookie\": \"session=53616c7465645f5f5ebac3997c6c17b36bb86dd7a54e710a5121d7aba9fb1bd44020840204e963daf3388cece92610a2\",\n",
    "}\n",
    "\n",
    "r = requests.get('http://adventofcode.com/2016/day/19/input', headers=headers)\n",
    "input = r.text.strip()\n",
    "lines = input.split('\\n')\n",
    "lines"
   ]
  },
  {
   "cell_type": "code",
   "execution_count": 35,
   "metadata": {
    "collapsed": true
   },
   "outputs": [],
   "source": [
    "n = int(lines[0])"
   ]
  },
  {
   "cell_type": "code",
   "execution_count": 7,
   "metadata": {
    "collapsed": true
   },
   "outputs": [],
   "source": [
    "n = 5"
   ]
  },
  {
   "cell_type": "code",
   "execution_count": 5,
   "metadata": {
    "collapsed": true
   },
   "outputs": [],
   "source": [
    "a = list(range(1, n + 1))"
   ]
  },
  {
   "cell_type": "code",
   "execution_count": 15,
   "metadata": {
    "collapsed": true
   },
   "outputs": [],
   "source": [
    "while len(a) > 1:\n",
    "    skip = len(a) % 2 == 1\n",
    "    a = a[::2]\n",
    "    if skip:\n",
    "        a = [a[-1]] + a[:-1]"
   ]
  },
  {
   "cell_type": "code",
   "execution_count": 16,
   "metadata": {},
   "outputs": [
    {
     "data": {
      "text/plain": [
       "[1842613]"
      ]
     },
     "execution_count": 16,
     "metadata": {},
     "output_type": "execute_result"
    }
   ],
   "source": [
    "a"
   ]
  },
  {
   "cell_type": "code",
   "execution_count": 36,
   "metadata": {},
   "outputs": [
    {
     "data": {
      "text/plain": [
       "[1424135, 2848270]"
      ]
     },
     "execution_count": 36,
     "metadata": {},
     "output_type": "execute_result"
    }
   ],
   "source": [
    "a = list(range(1, n + 1))\n",
    "while len(a) > 2:\n",
    "    m = len(a)\n",
    "    if m % 2 == 0:\n",
    "        fr = m // 2\n",
    "        r = list(range(fr, m, 3)) + list(range(fr + 1, m, 3))\n",
    "    else:\n",
    "        fr = m // 2\n",
    "        r = list(range(fr, m, 3)) + list(range(fr + 2, m, 3))\n",
    "    r = sorted(r)\n",
    "#     print('remove', [a[i] for i in r])\n",
    "    for i in r:\n",
    "        a[i] = -1\n",
    "    b = [i for i in a if i != -1]\n",
    "    fr = len(r)\n",
    "    a = b[fr:] + b[:fr]\n",
    "#     print(a)\n",
    "a"
   ]
  },
  {
   "cell_type": "code",
   "execution_count": 32,
   "metadata": {},
   "outputs": [
    {
     "data": {
      "text/plain": [
       "[2]"
      ]
     },
     "execution_count": 32,
     "metadata": {},
     "output_type": "execute_result"
    }
   ],
   "source": [
    "a"
   ]
  }
 ],
 "metadata": {
  "kernelspec": {
   "display_name": "Python 3",
   "language": "python",
   "name": "python3"
  },
  "language_info": {
   "codemirror_mode": {
    "name": "ipython",
    "version": 3
   },
   "file_extension": ".py",
   "mimetype": "text/x-python",
   "name": "python",
   "nbconvert_exporter": "python",
   "pygments_lexer": "ipython3",
   "version": "3.6.0b2"
  }
 },
 "nbformat": 4,
 "nbformat_minor": 1
}

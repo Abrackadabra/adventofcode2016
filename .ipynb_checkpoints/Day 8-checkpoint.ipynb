{
 "cells": [
  {
   "cell_type": "code",
   "execution_count": 1,
   "metadata": {},
   "outputs": [
    {
     "name": "stdout",
     "output_type": "stream",
     "text": [
      "Populating the interactive namespace from numpy and matplotlib\n"
     ]
    }
   ],
   "source": [
    "%pylab inline"
   ]
  },
  {
   "cell_type": "code",
   "execution_count": 2,
   "metadata": {
    "collapsed": true
   },
   "outputs": [],
   "source": [
    "import re"
   ]
  },
  {
   "cell_type": "code",
   "execution_count": 3,
   "metadata": {
    "collapsed": true
   },
   "outputs": [],
   "source": [
    "s = \"\"\"rect 1x1\n",
    "rotate row y=0 by 20\n",
    "rect 1x1\n",
    "rotate row y=0 by 2\n",
    "rect 1x1\n",
    "rotate row y=0 by 3\n",
    "rect 2x1\n",
    "rotate row y=0 by 2\n",
    "rect 1x1\n",
    "rotate row y=0 by 3\n",
    "rect 2x1\n",
    "rotate row y=0 by 2\n",
    "rect 1x1\n",
    "rotate row y=0 by 4\n",
    "rect 2x1\n",
    "rotate row y=0 by 2\n",
    "rect 1x1\n",
    "rotate row y=0 by 2\n",
    "rect 1x1\n",
    "rotate row y=0 by 2\n",
    "rect 1x1\n",
    "rotate row y=0 by 3\n",
    "rect 2x1\n",
    "rotate row y=0 by 2\n",
    "rect 1x1\n",
    "rotate row y=0 by 5\n",
    "rect 1x1\n",
    "rotate row y=0 by 2\n",
    "rect 1x1\n",
    "rotate row y=0 by 6\n",
    "rect 5x1\n",
    "rotate row y=0 by 2\n",
    "rect 1x3\n",
    "rotate row y=2 by 8\n",
    "rotate row y=0 by 8\n",
    "rotate column x=0 by 1\n",
    "rect 7x1\n",
    "rotate row y=2 by 24\n",
    "rotate row y=0 by 20\n",
    "rotate column x=5 by 1\n",
    "rotate column x=4 by 2\n",
    "rotate column x=2 by 2\n",
    "rotate column x=0 by 1\n",
    "rect 7x1\n",
    "rotate column x=34 by 2\n",
    "rotate column x=22 by 1\n",
    "rotate column x=15 by 1\n",
    "rotate row y=2 by 18\n",
    "rotate row y=0 by 12\n",
    "rotate column x=8 by 2\n",
    "rotate column x=7 by 1\n",
    "rotate column x=5 by 2\n",
    "rotate column x=2 by 1\n",
    "rotate column x=0 by 1\n",
    "rect 9x1\n",
    "rotate row y=3 by 28\n",
    "rotate row y=1 by 28\n",
    "rotate row y=0 by 20\n",
    "rotate column x=18 by 1\n",
    "rotate column x=15 by 1\n",
    "rotate column x=14 by 1\n",
    "rotate column x=13 by 1\n",
    "rotate column x=12 by 2\n",
    "rotate column x=10 by 3\n",
    "rotate column x=8 by 1\n",
    "rotate column x=7 by 2\n",
    "rotate column x=6 by 1\n",
    "rotate column x=5 by 1\n",
    "rotate column x=3 by 1\n",
    "rotate column x=2 by 2\n",
    "rotate column x=0 by 1\n",
    "rect 19x1\n",
    "rotate column x=34 by 2\n",
    "rotate column x=24 by 1\n",
    "rotate column x=23 by 1\n",
    "rotate column x=14 by 1\n",
    "rotate column x=9 by 2\n",
    "rotate column x=4 by 2\n",
    "rotate row y=3 by 5\n",
    "rotate row y=2 by 3\n",
    "rotate row y=1 by 7\n",
    "rotate row y=0 by 5\n",
    "rotate column x=0 by 2\n",
    "rect 3x2\n",
    "rotate column x=16 by 2\n",
    "rotate row y=3 by 27\n",
    "rotate row y=2 by 5\n",
    "rotate row y=0 by 20\n",
    "rotate column x=8 by 2\n",
    "rotate column x=7 by 1\n",
    "rotate column x=5 by 1\n",
    "rotate column x=3 by 3\n",
    "rotate column x=2 by 1\n",
    "rotate column x=1 by 2\n",
    "rotate column x=0 by 1\n",
    "rect 9x1\n",
    "rotate row y=4 by 42\n",
    "rotate row y=3 by 40\n",
    "rotate row y=1 by 30\n",
    "rotate row y=0 by 40\n",
    "rotate column x=37 by 2\n",
    "rotate column x=36 by 3\n",
    "rotate column x=35 by 1\n",
    "rotate column x=33 by 1\n",
    "rotate column x=32 by 1\n",
    "rotate column x=31 by 3\n",
    "rotate column x=30 by 1\n",
    "rotate column x=28 by 1\n",
    "rotate column x=27 by 1\n",
    "rotate column x=25 by 1\n",
    "rotate column x=23 by 3\n",
    "rotate column x=22 by 1\n",
    "rotate column x=21 by 1\n",
    "rotate column x=20 by 1\n",
    "rotate column x=18 by 1\n",
    "rotate column x=17 by 1\n",
    "rotate column x=16 by 3\n",
    "rotate column x=15 by 1\n",
    "rotate column x=13 by 1\n",
    "rotate column x=12 by 1\n",
    "rotate column x=11 by 2\n",
    "rotate column x=10 by 1\n",
    "rotate column x=8 by 1\n",
    "rotate column x=7 by 2\n",
    "rotate column x=5 by 1\n",
    "rotate column x=3 by 3\n",
    "rotate column x=2 by 1\n",
    "rotate column x=1 by 1\n",
    "rotate column x=0 by 1\n",
    "rect 39x1\n",
    "rotate column x=44 by 2\n",
    "rotate column x=42 by 2\n",
    "rotate column x=35 by 5\n",
    "rotate column x=34 by 2\n",
    "rotate column x=32 by 2\n",
    "rotate column x=29 by 2\n",
    "rotate column x=25 by 5\n",
    "rotate column x=24 by 2\n",
    "rotate column x=19 by 2\n",
    "rotate column x=15 by 4\n",
    "rotate column x=14 by 2\n",
    "rotate column x=12 by 3\n",
    "rotate column x=9 by 2\n",
    "rotate column x=5 by 5\n",
    "rotate column x=4 by 2\n",
    "rotate row y=5 by 5\n",
    "rotate row y=4 by 38\n",
    "rotate row y=3 by 10\n",
    "rotate row y=2 by 46\n",
    "rotate row y=1 by 10\n",
    "rotate column x=48 by 4\n",
    "rotate column x=47 by 3\n",
    "rotate column x=46 by 3\n",
    "rotate column x=45 by 1\n",
    "rotate column x=43 by 1\n",
    "rotate column x=37 by 5\n",
    "rotate column x=36 by 5\n",
    "rotate column x=35 by 4\n",
    "rotate column x=33 by 1\n",
    "rotate column x=32 by 5\n",
    "rotate column x=31 by 5\n",
    "rotate column x=28 by 5\n",
    "rotate column x=27 by 5\n",
    "rotate column x=26 by 3\n",
    "rotate column x=25 by 4\n",
    "rotate column x=23 by 1\n",
    "rotate column x=17 by 5\n",
    "rotate column x=16 by 5\n",
    "rotate column x=13 by 1\n",
    "rotate column x=12 by 5\n",
    "rotate column x=11 by 5\n",
    "rotate column x=3 by 1\n",
    "rotate column x=0 by 1\"\"\""
   ]
  },
  {
   "cell_type": "code",
   "execution_count": 29,
   "metadata": {},
   "outputs": [],
   "source": [
    "def rect(a, b):\n",
    "    X[0:b, 0:a] = 1\n",
    "def rotR(a, b):\n",
    "    X[a, :] = roll(X[a, :], b)\n",
    "def rotC(a, b):\n",
    "    X[:, a] = roll(X[:, a], b)"
   ]
  },
  {
   "cell_type": "code",
   "execution_count": 30,
   "metadata": {},
   "outputs": [
    {
     "data": {
      "text/plain": [
       "array([[0, 1, 0, 0, 1, 0, 1],\n",
       "       [1, 0, 1, 0, 0, 0, 0],\n",
       "       [0, 1, 0, 0, 0, 0, 0]])"
      ]
     },
     "execution_count": 30,
     "metadata": {},
     "output_type": "execute_result"
    }
   ],
   "source": [
    "X = zeros((3, 7), dtype=int)\n",
    "rect(3, 2)\n",
    "rotC(1, 1)\n",
    "rotR(0, 4)\n",
    "rotC(1, 1)\n",
    "X"
   ]
  },
  {
   "cell_type": "code",
   "execution_count": 33,
   "metadata": {},
   "outputs": [],
   "source": [
    "X = zeros((6, 50), dtype=int)\n",
    "for line in s.split('\\n'):\n",
    "    m = re.findall(r'rect (\\d+)x(\\d+)', line)\n",
    "    if m:\n",
    "        a, b = list(map(int, m[0]))\n",
    "        rect(a, b)\n",
    "        continue\n",
    "    m = re.findall(r'rotate row y=(\\d+) by (\\d+)', line)\n",
    "    if m:\n",
    "        a, b = list(map(int, m[0]))\n",
    "        rotR(a, b)\n",
    "        continue\n",
    "    m = re.findall(r'rotate column x=(\\d+) by (\\d+)', line)\n",
    "    if m:\n",
    "        a, b = list(map(int, m[0]))\n",
    "        rotC(a, b)\n",
    "        continue\n",
    "    print(f'unrecognized {line}')\n",
    "    break"
   ]
  },
  {
   "cell_type": "code",
   "execution_count": 35,
   "metadata": {},
   "outputs": [
    {
     "data": {
      "text/plain": [
       "123"
      ]
     },
     "execution_count": 35,
     "metadata": {},
     "output_type": "execute_result"
    }
   ],
   "source": [
    "sum(X)"
   ]
  },
  {
   "cell_type": "code",
   "execution_count": 38,
   "metadata": {},
   "outputs": [
    {
     "name": "stdout",
     "output_type": "stream",
     "text": [
      " ##  #### ###  #  # ###  #### ###    ## ###   ### \n",
      "#  # #    #  # #  # #  #    # #  #    # #  # #    \n",
      "#  # ###  ###  #  # #  #   #  ###     # #  # #    \n",
      "#### #    #  # #  # ###   #   #  #    # ###   ##  \n",
      "#  # #    #  # #  # #    #    #  # #  # #       # \n",
      "#  # #    ###   ##  #    #### ###   ##  #    ###  \n"
     ]
    }
   ],
   "source": [
    "print('\\n'.join([''.join(['#' if X[i, j] == 1 else ' ' for j in range(X.shape[1])]) for i in range(X.shape[0])]))"
   ]
  }
 ],
 "metadata": {
  "kernelspec": {
   "display_name": "Python 3",
   "language": "python",
   "name": "python3"
  },
  "language_info": {
   "codemirror_mode": {
    "name": "ipython",
    "version": 3
   },
   "file_extension": ".py",
   "mimetype": "text/x-python",
   "name": "python",
   "nbconvert_exporter": "python",
   "pygments_lexer": "ipython3",
   "version": "3.6.0b2"
  }
 },
 "nbformat": 4,
 "nbformat_minor": 1
}

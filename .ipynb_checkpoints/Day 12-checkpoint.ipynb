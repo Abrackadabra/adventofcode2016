{
 "cells": [
  {
   "cell_type": "code",
   "execution_count": 1,
   "metadata": {},
   "outputs": [
    {
     "name": "stdout",
     "output_type": "stream",
     "text": [
      "Populating the interactive namespace from numpy and matplotlib\n"
     ]
    }
   ],
   "source": [
    "%pylab inline"
   ]
  },
  {
   "cell_type": "code",
   "execution_count": 2,
   "metadata": {
    "collapsed": true
   },
   "outputs": [],
   "source": [
    "import re\n",
    "from collections import defaultdict"
   ]
  },
  {
   "cell_type": "code",
   "execution_count": 4,
   "metadata": {
    "collapsed": true
   },
   "outputs": [],
   "source": [
    "s = \"\"\"cpy 1 a\n",
    "cpy 1 b\n",
    "cpy 26 d\n",
    "\n",
    "\n",
    "\n",
    "\n",
    "\n",
    "\n",
    "cpy a c\n",
    "add b a\n",
    "\n",
    "\n",
    "cpy c b\n",
    "dec d\n",
    "jnz d -6\n",
    "cpy 18 c\n",
    "cpy 11 d\n",
    "add d a\n",
    "cpy 0 d\n",
    "\n",
    "dec c\n",
    "jnz c -5\"\"\""
   ]
  },
  {
   "cell_type": "code",
   "execution_count": 17,
   "metadata": {},
   "outputs": [
    {
     "data": {
      "text/plain": [
       "300"
      ]
     },
     "execution_count": 17,
     "metadata": {},
     "output_type": "execute_result"
    }
   ],
   "source": [
    "regs = defaultdict(int)\n",
    "\n",
    "pi = 0\n",
    "lines = s.split('\\n')\n",
    "\n",
    "c = 0\n",
    "log = []\n",
    "\n",
    "while pi < len(lines) and c < 1000:\n",
    "    line = lines[pi]\n",
    "    c += 1\n",
    "#     print(pi)\n",
    "    log.append(pi)\n",
    "    \n",
    "    m = re.findall(r'cpy (.*) (.*)', line)\n",
    "    if m:\n",
    "        a, b = m[0]\n",
    "        if a.isdecimal():\n",
    "            a = int(a)\n",
    "        else:\n",
    "            a = regs[a]\n",
    "        regs[b] = a\n",
    "    m = re.findall(r'inc (.*)', line)\n",
    "    if m:\n",
    "        a = m[0]\n",
    "        regs[a] = regs[a] + 1\n",
    "    m = re.findall(r'dec (.*)', line)\n",
    "    if m:\n",
    "        a = m[0]\n",
    "        regs[a] = regs[a] - 1\n",
    "    m = re.findall(r'jnz (.*) (.*)', line)\n",
    "    if m:\n",
    "        a, b = m[0]\n",
    "        b = int(b)\n",
    "        if regs[a] != 0:\n",
    "            pi += b - 1\n",
    "    m = re.findall(r'add (.*) (.*)', line)\n",
    "    if m:\n",
    "        a, b = m[0]\n",
    "        regs[b] += regs[a]\n",
    "    pi += 1\n",
    "c"
   ]
  },
  {
   "cell_type": "code",
   "execution_count": 18,
   "metadata": {},
   "outputs": [
    {
     "data": {
      "text/plain": [
       "defaultdict(int, {'a': 318009, 'b': 196418, 'c': 0, 'd': 0})"
      ]
     },
     "execution_count": 18,
     "metadata": {},
     "output_type": "execute_result"
    }
   ],
   "source": [
    "regs"
   ]
  },
  {
   "cell_type": "code",
   "execution_count": 21,
   "metadata": {
    "collapsed": true
   },
   "outputs": [],
   "source": [
    "s = \"\"\"cpy 1 a\n",
    "cpy 1 b\n",
    "cpy 26 d\n",
    "\n",
    "\n",
    "cpy 7 c\n",
    "add c d\n",
    "\n",
    "\n",
    "cpy a c\n",
    "add b a\n",
    "\n",
    "\n",
    "cpy c b\n",
    "dec d\n",
    "jnz d -6\n",
    "cpy 18 c\n",
    "cpy 11 d\n",
    "add d a\n",
    "cpy 0 d\n",
    "\n",
    "dec c\n",
    "jnz c -5\"\"\""
   ]
  },
  {
   "cell_type": "code",
   "execution_count": 22,
   "metadata": {},
   "outputs": [
    {
     "data": {
      "text/plain": [
       "349"
      ]
     },
     "execution_count": 22,
     "metadata": {},
     "output_type": "execute_result"
    }
   ],
   "source": [
    "regs = defaultdict(int)\n",
    "regs['c'] = 1\n",
    "\n",
    "pi = 0\n",
    "lines = s.split('\\n')\n",
    "\n",
    "c = 0\n",
    "log = []\n",
    "\n",
    "while pi < len(lines) and c < 1000:\n",
    "    line = lines[pi]\n",
    "    c += 1\n",
    "#     print(pi)\n",
    "    log.append(pi)\n",
    "    \n",
    "    m = re.findall(r'cpy (.*) (.*)', line)\n",
    "    if m:\n",
    "        a, b = m[0]\n",
    "        if a.isdecimal():\n",
    "            a = int(a)\n",
    "        else:\n",
    "            a = regs[a]\n",
    "        regs[b] = a\n",
    "    m = re.findall(r'inc (.*)', line)\n",
    "    if m:\n",
    "        a = m[0]\n",
    "        regs[a] = regs[a] + 1\n",
    "    m = re.findall(r'dec (.*)', line)\n",
    "    if m:\n",
    "        a = m[0]\n",
    "        regs[a] = regs[a] - 1\n",
    "    m = re.findall(r'jnz (.*) (.*)', line)\n",
    "    if m:\n",
    "        a, b = m[0]\n",
    "        b = int(b)\n",
    "        if regs[a] != 0:\n",
    "            pi += b - 1\n",
    "    m = re.findall(r'add (.*) (.*)', line)\n",
    "    if m:\n",
    "        a, b = m[0]\n",
    "        regs[b] += regs[a]\n",
    "    pi += 1\n",
    "c"
   ]
  },
  {
   "cell_type": "code",
   "execution_count": 23,
   "metadata": {},
   "outputs": [
    {
     "data": {
      "text/plain": [
       "defaultdict(int, {'a': 9227663, 'b': 5702887, 'c': 0, 'd': 0})"
      ]
     },
     "execution_count": 23,
     "metadata": {},
     "output_type": "execute_result"
    }
   ],
   "source": [
    "regs"
   ]
  }
 ],
 "metadata": {
  "kernelspec": {
   "display_name": "Python 3",
   "language": "python",
   "name": "python3"
  },
  "language_info": {
   "codemirror_mode": {
    "name": "ipython",
    "version": 3
   },
   "file_extension": ".py",
   "mimetype": "text/x-python",
   "name": "python",
   "nbconvert_exporter": "python",
   "pygments_lexer": "ipython3",
   "version": "3.6.0b2"
  }
 },
 "nbformat": 4,
 "nbformat_minor": 1
}

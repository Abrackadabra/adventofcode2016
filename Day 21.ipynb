{
 "cells": [
  {
   "cell_type": "code",
   "execution_count": 1,
   "metadata": {},
   "outputs": [
    {
     "name": "stdout",
     "output_type": "stream",
     "text": [
      "Populating the interactive namespace from numpy and matplotlib\n"
     ]
    }
   ],
   "source": [
    "%pylab inline"
   ]
  },
  {
   "cell_type": "code",
   "execution_count": 2,
   "metadata": {
    "collapsed": true
   },
   "outputs": [],
   "source": [
    "import re\n",
    "import requests\n",
    "import collections\n",
    "import functools\n",
    "import itertools"
   ]
  },
  {
   "cell_type": "code",
   "execution_count": 35,
   "metadata": {},
   "outputs": [
    {
     "data": {
      "text/plain": [
       "['rotate right 4 steps',\n",
       " 'swap letter b with letter e',\n",
       " 'swap position 1 with position 3',\n",
       " 'reverse positions 0 through 4',\n",
       " 'rotate left 5 steps',\n",
       " 'swap position 6 with position 5',\n",
       " 'move position 3 to position 2',\n",
       " 'move position 6 to position 5',\n",
       " 'reverse positions 1 through 4',\n",
       " 'rotate based on position of letter e',\n",
       " 'reverse positions 3 through 7',\n",
       " 'reverse positions 4 through 7',\n",
       " 'rotate left 1 step',\n",
       " 'reverse positions 2 through 6',\n",
       " 'swap position 7 with position 5',\n",
       " 'swap letter e with letter c',\n",
       " 'swap letter f with letter d',\n",
       " 'swap letter a with letter e',\n",
       " 'swap position 2 with position 7',\n",
       " 'swap position 1 with position 7',\n",
       " 'swap position 6 with position 3',\n",
       " 'swap letter g with letter h',\n",
       " 'reverse positions 2 through 5',\n",
       " 'rotate based on position of letter f',\n",
       " 'rotate left 1 step',\n",
       " 'rotate right 2 steps',\n",
       " 'reverse positions 2 through 7',\n",
       " 'reverse positions 5 through 6',\n",
       " 'rotate left 6 steps',\n",
       " 'move position 2 to position 6',\n",
       " 'rotate based on position of letter a',\n",
       " 'rotate based on position of letter a',\n",
       " 'swap letter f with letter a',\n",
       " 'rotate right 5 steps',\n",
       " 'reverse positions 0 through 4',\n",
       " 'swap letter d with letter c',\n",
       " 'swap position 4 with position 7',\n",
       " 'swap letter f with letter h',\n",
       " 'swap letter h with letter a',\n",
       " 'rotate left 0 steps',\n",
       " 'rotate based on position of letter e',\n",
       " 'swap position 5 with position 4',\n",
       " 'swap letter e with letter h',\n",
       " 'swap letter h with letter d',\n",
       " 'rotate right 2 steps',\n",
       " 'rotate right 3 steps',\n",
       " 'swap position 1 with position 7',\n",
       " 'swap letter b with letter e',\n",
       " 'swap letter b with letter e',\n",
       " 'rotate based on position of letter e',\n",
       " 'rotate based on position of letter h',\n",
       " 'swap letter a with letter h',\n",
       " 'move position 7 to position 2',\n",
       " 'rotate left 2 steps',\n",
       " 'move position 3 to position 2',\n",
       " 'swap position 4 with position 6',\n",
       " 'rotate right 7 steps',\n",
       " 'reverse positions 1 through 4',\n",
       " 'move position 7 to position 0',\n",
       " 'move position 2 to position 0',\n",
       " 'reverse positions 4 through 6',\n",
       " 'rotate left 3 steps',\n",
       " 'rotate left 7 steps',\n",
       " 'move position 2 to position 3',\n",
       " 'rotate left 6 steps',\n",
       " 'swap letter a with letter h',\n",
       " 'rotate based on position of letter f',\n",
       " 'swap letter f with letter c',\n",
       " 'swap position 3 with position 0',\n",
       " 'reverse positions 1 through 3',\n",
       " 'swap letter h with letter a',\n",
       " 'swap letter b with letter a',\n",
       " 'reverse positions 2 through 3',\n",
       " 'rotate left 5 steps',\n",
       " 'swap position 7 with position 5',\n",
       " 'rotate based on position of letter g',\n",
       " 'rotate based on position of letter h',\n",
       " 'rotate right 6 steps',\n",
       " 'swap letter a with letter e',\n",
       " 'swap letter b with letter g',\n",
       " 'move position 4 to position 6',\n",
       " 'move position 6 to position 5',\n",
       " 'rotate based on position of letter e',\n",
       " 'reverse positions 2 through 6',\n",
       " 'swap letter c with letter f',\n",
       " 'swap letter h with letter g',\n",
       " 'move position 7 to position 2',\n",
       " 'reverse positions 1 through 7',\n",
       " 'reverse positions 1 through 2',\n",
       " 'rotate right 0 steps',\n",
       " 'move position 5 to position 6',\n",
       " 'swap letter f with letter a',\n",
       " 'move position 3 to position 1',\n",
       " 'move position 2 to position 4',\n",
       " 'reverse positions 1 through 2',\n",
       " 'swap letter g with letter c',\n",
       " 'rotate based on position of letter f',\n",
       " 'rotate left 7 steps',\n",
       " 'rotate based on position of letter e',\n",
       " 'swap position 6 with position 1']"
      ]
     },
     "execution_count": 35,
     "metadata": {},
     "output_type": "execute_result"
    }
   ],
   "source": [
    "headers = {\n",
    "    \"Host\": \"adventofcode.com\",\n",
    "    \"Connection\": \"keep-alive\",\n",
    "    \"Cache-Control\": \"max-age=0\",\n",
    "    \"Upgrade-Insecure-Requests\": \"1\",\n",
    "    \"User-Agent\": \"Mozilla/5.0 (Macintosh; Intel Mac OS X 10_11_1) AppleWebKit/537.36 (KHTML, like Gecko) Chrome/55.0.2883.87 Safari/537.36\",\n",
    "    \"Accept\": \"text/html,application/xhtml+xml,application/xml;q=0.9,image/webp,*/*;q=0.8\",\n",
    "    \"DNT\": \"1\",\n",
    "    \"Referer\": \"http://adventofcode.com/2016/day/11\",\n",
    "    \"Accept-Encoding\": \"gzip, deflate, sdch\",\n",
    "    \"Accept-Language\": \"en-US,en;q=0.8,ru;q=0.6\",\n",
    "    \"Cookie\": \"session=53616c7465645f5f5ebac3997c6c17b36bb86dd7a54e710a5121d7aba9fb1bd44020840204e963daf3388cece92610a2\",\n",
    "}\n",
    "\n",
    "r = requests.get('http://adventofcode.com/2016/day/21/input', headers=headers)\n",
    "input = r.text.strip()\n",
    "lines = input.split('\\n')\n",
    "lines"
   ]
  },
  {
   "cell_type": "code",
   "execution_count": 11,
   "metadata": {
    "collapsed": true
   },
   "outputs": [],
   "source": [
    "s = 'abcdefgh'"
   ]
  },
  {
   "cell_type": "code",
   "execution_count": 29,
   "metadata": {
    "collapsed": true
   },
   "outputs": [],
   "source": [
    "input = \"\"\"swap position 4 with position 0\n",
    "swap letter d with letter b\n",
    "reverse positions 0 through 4\n",
    "rotate left 1 step\n",
    "move position 1 to position 4\n",
    "move position 3 to position 0\n",
    "rotate based on position of letter b\n",
    "rotate based on position of letter d\"\"\"\n",
    "lines = input.split('\\n')"
   ]
  },
  {
   "cell_type": "code",
   "execution_count": 43,
   "metadata": {},
   "outputs": [],
   "source": [
    "ms = lambda s: ''.join(s)\n",
    "def proc(s):\n",
    "    for line in lines:\n",
    "        for a, b in re.findall(r'swap position (\\d+) with position (\\d+)', line):\n",
    "            a = int(a)\n",
    "            b = int(b)\n",
    "            s = list(s)\n",
    "            t = s[a]\n",
    "            s[a] = s[b]\n",
    "            s[b] = t\n",
    "            s = ''.join(s)\n",
    "        for a, b in re.findall(r'swap letter (.) with letter (.)', line):\n",
    "            for i in range(len(s)):\n",
    "                if s[i] == a:\n",
    "                    s = s[:i] + b + s[i+1:]\n",
    "                elif s[i] == b:\n",
    "                    s = s[:i] + a + s[i+1:]\n",
    "        for a, b in re.findall(r'rotate (\\w+) (\\d+) step', line):\n",
    "            b = int(b)\n",
    "            for i in range(b):\n",
    "                if a == 'left':\n",
    "                    s = s[1:] + s[0]\n",
    "                else:\n",
    "                    s = s[-1] + s[:-1]\n",
    "        for a in re.findall(r'rotate based on position of letter (.)', line):\n",
    "            i = s.find(a)\n",
    "            c = i + 1\n",
    "            if i >= 4:\n",
    "                c += 1\n",
    "            for i in range(c):\n",
    "                s = s[-1] + s[:-1]\n",
    "        for a, b in re.findall(r'reverse positions (\\d+) through (\\d+)', line):\n",
    "            a, b = int(a), int(b)\n",
    "            s = s[:a] + ms(s[a:b+1][::-1]) + s[b+1:]\n",
    "        for a, b in re.findall(r'move position (\\d+) to position (\\d+)', line):\n",
    "            a, b = int(a), int(b)\n",
    "            c = s[a]\n",
    "            s = s[:a] + s[a+1:]\n",
    "            s = s[:b] + c + s[b:]\n",
    "    return s"
   ]
  },
  {
   "cell_type": "code",
   "execution_count": 44,
   "metadata": {
    "collapsed": true
   },
   "outputs": [],
   "source": [
    "import tqdm"
   ]
  },
  {
   "cell_type": "code",
   "execution_count": 46,
   "metadata": {},
   "outputs": [
    {
     "name": "stderr",
     "output_type": "stream",
     "text": [
      " 10%|█         | 4214/40320 [00:03<00:26, 1344.99it/s]  | 130/40320 [00:00<00:31, 1290.70it/s]"
     ]
    },
    {
     "name": "stdout",
     "output_type": "stream",
     "text": [
      "aghfcdeb\n"
     ]
    },
    {
     "name": "stderr",
     "output_type": "stream",
     "text": [
      "\n"
     ]
    }
   ],
   "source": [
    "perms = list(itertools.permutations('abcdefgh'))\n",
    "\n",
    "for perm in tqdm.tqdm(perms):\n",
    "    s = ms(perm)\n",
    "    s = proc(s)\n",
    "    if s == 'fbgdceah':\n",
    "        print(ms(perm))\n",
    "        break"
   ]
  },
  {
   "cell_type": "code",
   "execution_count": 22,
   "metadata": {},
   "outputs": [
    {
     "data": {
      "text/plain": [
       "'acghfebd'"
      ]
     },
     "execution_count": 22,
     "metadata": {},
     "output_type": "execute_result"
    }
   ],
   "source": [
    "s"
   ]
  }
 ],
 "metadata": {
  "kernelspec": {
   "display_name": "Python 3",
   "language": "python",
   "name": "python3"
  },
  "language_info": {
   "codemirror_mode": {
    "name": "ipython",
    "version": 3
   },
   "file_extension": ".py",
   "mimetype": "text/x-python",
   "name": "python",
   "nbconvert_exporter": "python",
   "pygments_lexer": "ipython3",
   "version": "3.6.0b2"
  }
 },
 "nbformat": 4,
 "nbformat_minor": 1
}

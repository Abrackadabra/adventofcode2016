{
 "cells": [
  {
   "cell_type": "code",
   "execution_count": 1,
   "metadata": {},
   "outputs": [
    {
     "name": "stdout",
     "output_type": "stream",
     "text": [
      "Populating the interactive namespace from numpy and matplotlib\n"
     ]
    }
   ],
   "source": [
    "%pylab inline"
   ]
  },
  {
   "cell_type": "code",
   "execution_count": 2,
   "metadata": {
    "collapsed": true
   },
   "outputs": [],
   "source": [
    "import re"
   ]
  },
  {
   "cell_type": "code",
   "execution_count": 3,
   "metadata": {
    "collapsed": true
   },
   "outputs": [],
   "source": [
    "s = \"R3, L5, R2, L2, R1, L3, R1, R3, L4, R3, L1, L1, R1, L3, R2, L3, L2, R1, R1, L1, R4, L1, L4, R3, L2, L2, R1, L1, R5, R4, R2, L5, L2, R5, R5, L2, R3, R1, R1, L3, R1, L4, L4, L190, L5, L2, R4, L5, R4, R5, L4, R1, R2, L5, R50, L2, R1, R73, R1, L2, R191, R2, L4, R1, L5, L5, R5, L3, L5, L4, R4, R5, L4, R4, R4, R5, L2, L5, R3, L4, L4, L5, R2, R2, R2, R4, L3, R4, R5, L3, R5, L2, R3, L1, R2, R2, L3, L1, R5, L3, L5, R2, R4, R1, L1, L5, R3, R2, L3, L4, L5, L1, R3, L5, L2, R2, L3, L4, L1, R1, R4, R2, R2, R4, R2, R2, L3, L3, L4, R4, L4, L4, R1, L4, L4, R1, L2, R5, R2, R3, R3, L2, L5, R3, L3, R5, L2, R3, R2, L4, L3, L1, R2, L2, L3, L5, R3, L1, L3, L4, L3\""
   ]
  },
  {
   "cell_type": "code",
   "execution_count": 4,
   "metadata": {
    "collapsed": true
   },
   "outputs": [],
   "source": [
    "direction = 0\n",
    "directions = [\n",
    "    [0, 1],\n",
    "    [1, 0],\n",
    "    [0, -1],\n",
    "    [-1, 0]\n",
    "]"
   ]
  },
  {
   "cell_type": "code",
   "execution_count": 5,
   "metadata": {
    "collapsed": true
   },
   "outputs": [],
   "source": [
    "moves = s.split()"
   ]
  },
  {
   "cell_type": "code",
   "execution_count": 6,
   "metadata": {
    "collapsed": true
   },
   "outputs": [],
   "source": [
    "x = 0\n",
    "y = 0\n",
    "for move in moves:\n",
    "    m = re.findall(r'([LR])(\\d+)', move)\n",
    "    if m[0][0] == 'L':\n",
    "        direction = (direction + 4 - 1) % 4\n",
    "    if m[0][0] == 'R':\n",
    "        direction = (direction + 1) % 4\n",
    "    l = int(m[0][1])\n",
    "    x += directions[direction][0] * l\n",
    "    y += directions[direction][1] * l"
   ]
  },
  {
   "cell_type": "code",
   "execution_count": 7,
   "metadata": {},
   "outputs": [
    {
     "data": {
      "text/plain": [
       "291"
      ]
     },
     "execution_count": 7,
     "metadata": {},
     "output_type": "execute_result"
    }
   ],
   "source": [
    "abs(x) + abs(y)"
   ]
  },
  {
   "cell_type": "code",
   "execution_count": 8,
   "metadata": {},
   "outputs": [
    {
     "name": "stdout",
     "output_type": "stream",
     "text": [
      "143 -16\n",
      "141 149\n",
      "142 149\n",
      "137 145\n",
      "138 145\n",
      "134 145\n",
      "133 144\n",
      "132 146\n",
      "133 146\n",
      "134 146\n",
      "136 147\n",
      "138 149\n",
      "139 149\n",
      "140 149\n",
      "140 145\n",
      "143 140\n",
      "143 139\n",
      "150 128\n",
      "150 127\n",
      "150 126\n",
      "149 126\n",
      "148 126\n",
      "152 123\n",
      "153 123\n",
      "153 120\n",
      "152 120\n",
      "152 122\n",
      "153 122\n",
      "155 120\n",
      "154 120\n",
      "153 120\n",
      "156 120\n",
      "156 121\n",
      "156 125\n",
      "155 126\n",
      "154 126\n",
      "153 126\n",
      "152 126\n",
      "152 124\n",
      "152 123\n",
      "152 122\n",
      "151 122\n",
      "151 121\n",
      "151 120\n",
      "149 120\n",
      "151 120\n",
      "151 121\n",
      "151 122\n",
      "151 123\n",
      "152 124\n",
      "153 124\n",
      "154 124\n",
      "154 125\n",
      "154 126\n",
      "155 127\n",
      "166 129\n",
      "168 129\n",
      "167 129\n",
      "166 129\n",
      "165 129\n",
      "165 127\n"
     ]
    }
   ],
   "source": [
    "visited = set()\n",
    "x = 0\n",
    "y = 0\n",
    "for move in moves:\n",
    "    m = re.findall(r'([LR])(\\d+)', move)\n",
    "    if m[0][0] == 'L':\n",
    "        direction = (direction + 4 - 1) % 4\n",
    "    if m[0][0] == 'R':\n",
    "        direction = (direction + 1) % 4\n",
    "    l = int(m[0][1])\n",
    "    for i in range(l):\n",
    "        x += directions[direction][0]\n",
    "        y += directions[direction][1]\n",
    "        m = (x, y)\n",
    "        if m in visited:\n",
    "            print(x, y)\n",
    "        visited.add(m)"
   ]
  }
 ],
 "metadata": {
  "kernelspec": {
   "display_name": "Python 3",
   "language": "python",
   "name": "python3"
  },
  "language_info": {
   "codemirror_mode": {
    "name": "ipython",
    "version": 3
   },
   "file_extension": ".py",
   "mimetype": "text/x-python",
   "name": "python",
   "nbconvert_exporter": "python",
   "pygments_lexer": "ipython3",
   "version": "3.6.0b2"
  }
 },
 "nbformat": 4,
 "nbformat_minor": 1
}

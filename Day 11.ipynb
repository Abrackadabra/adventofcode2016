{
 "cells": [
  {
   "cell_type": "code",
   "execution_count": 1,
   "metadata": {},
   "outputs": [
    {
     "name": "stdout",
     "output_type": "stream",
     "text": [
      "Populating the interactive namespace from numpy and matplotlib\n"
     ]
    }
   ],
   "source": [
    "%pylab inline"
   ]
  },
  {
   "cell_type": "code",
   "execution_count": 2,
   "metadata": {
    "collapsed": true
   },
   "outputs": [],
   "source": [
    "import re\n",
    "import requests\n",
    "import collections\n",
    "import functools\n",
    "import itertools"
   ]
  },
  {
   "cell_type": "code",
   "execution_count": 4,
   "metadata": {
    "collapsed": true
   },
   "outputs": [],
   "source": [
    "headers = {\n",
    "    \"Host\": \"adventofcode.com\",\n",
    "    \"Connection\": \"keep-alive\",\n",
    "    \"Cache-Control\": \"max-age=0\",\n",
    "    \"Upgrade-Insecure-Requests\": \"1\",\n",
    "    \"User-Agent\": \"Mozilla/5.0 (Macintosh; Intel Mac OS X 10_11_1) AppleWebKit/537.36 (KHTML, like Gecko) Chrome/55.0.2883.87 Safari/537.36\",\n",
    "    \"Accept\": \"text/html,application/xhtml+xml,application/xml;q=0.9,image/webp,*/*;q=0.8\",\n",
    "    \"DNT\": \"1\",\n",
    "    \"Referer\": \"http://adventofcode.com/2016/day/11\",\n",
    "    \"Accept-Encoding\": \"gzip, deflate, sdch\",\n",
    "    \"Accept-Language\": \"en-US,en;q=0.8,ru;q=0.6\",\n",
    "    \"Cookie\": \"session=53616c7465645f5f5ebac3997c6c17b36bb86dd7a54e710a5121d7aba9fb1bd44020840204e963daf3388cece92610a2\",\n",
    "}"
   ]
  },
  {
   "cell_type": "code",
   "execution_count": 7,
   "metadata": {
    "collapsed": true
   },
   "outputs": [],
   "source": [
    "r = requests.get('http://adventofcode.com/2016/day/11/input', headers=headers)\n",
    "input = r.text"
   ]
  },
  {
   "cell_type": "code",
   "execution_count": 8,
   "metadata": {},
   "outputs": [
    {
     "data": {
      "text/plain": [
       "'The first floor contains a strontium generator, a strontium-compatible microchip, a plutonium generator, and a plutonium-compatible microchip.\\nThe second floor contains a thulium generator, a ruthenium generator, a ruthenium-compatible microchip, a curium generator, and a curium-compatible microchip.\\nThe third floor contains a thulium-compatible microchip.\\nThe fourth floor contains nothing relevant.\\n'"
      ]
     },
     "execution_count": 8,
     "metadata": {},
     "output_type": "execute_result"
    }
   ],
   "source": [
    "input"
   ]
  },
  {
   "cell_type": "code",
   "execution_count": null,
   "metadata": {
    "collapsed": true
   },
   "outputs": [],
   "source": [
    "def normalize_a(a):\n",
    "    c = 1\n",
    "    d = {}\n",
    "    b = []\n",
    "    for i in a:\n",
    "        b.append([])\n",
    "        for j in i:\n",
    "            q = abs(j)\n",
    "            if q not in d:\n",
    "                d[q] = c\n",
    "                d[-q] = -c\n",
    "                c += 1\n",
    "            b[-1].append(d[j])\n",
    "    return b\n",
    "\n",
    "class State:\n",
    "    def __init__(pos, a):\n",
    "        self.pos = pos\n",
    "        self.a = a\n",
    "    \n",
    "    def normalize(self):\n",
    "        self.a = normalize_a(a)\n",
    "        \n",
    "    def __eq__(self):"
   ]
  },
  {
   "cell_type": "code",
   "execution_count": 20,
   "metadata": {},
   "outputs": [
    {
     "data": {
      "text/plain": [
       "[(1, 2), (1, 3), (2, 3)]"
      ]
     },
     "execution_count": 20,
     "metadata": {},
     "output_type": "execute_result"
    }
   ],
   "source": [
    "list(itertools.combinations([1, 2, 3], 2))"
   ]
  },
  {
   "cell_type": "code",
   "execution_count": 15,
   "metadata": {
    "collapsed": true
   },
   "outputs": [],
   "source": [
    "a = [\n",
    "    [9, -9, 2, -2],\n",
    "    [3, 4, -4, 5, -5],\n",
    "    [-3],\n",
    "    []\n",
    "]"
   ]
  },
  {
   "cell_type": "code",
   "execution_count": 10,
   "metadata": {
    "collapsed": true
   },
   "outputs": [],
   "source": [
    "def normalize(a):\n",
    "    c = 1\n",
    "    d = {}\n",
    "    b = []\n",
    "    for i in a:\n",
    "        b.append([])\n",
    "        for j in i:\n",
    "            q = abs(j)\n",
    "            if q not in d:\n",
    "                d[q] = c\n",
    "                d[-q] = -c\n",
    "                c += 1\n",
    "            b[-1].append(d[j])\n",
    "    return b"
   ]
  },
  {
   "cell_type": "code",
   "execution_count": 17,
   "metadata": {},
   "outputs": [],
   "source": [
    "a = normalize(a)"
   ]
  },
  {
   "cell_type": "code",
   "execution_count": null,
   "metadata": {
    "collapsed": true
   },
   "outputs": [],
   "source": [
    "def ok(a):\n",
    "    "
   ]
  }
 ],
 "metadata": {
  "kernelspec": {
   "display_name": "Python 3",
   "language": "python",
   "name": "python3"
  },
  "language_info": {
   "codemirror_mode": {
    "name": "ipython",
    "version": 3
   },
   "file_extension": ".py",
   "mimetype": "text/x-python",
   "name": "python",
   "nbconvert_exporter": "python",
   "pygments_lexer": "ipython3",
   "version": "3.6.0b2"
  }
 },
 "nbformat": 4,
 "nbformat_minor": 1
}
